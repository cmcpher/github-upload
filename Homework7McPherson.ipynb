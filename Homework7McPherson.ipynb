{
 "cells": [
  {
   "cell_type": "code",
   "execution_count": 6,
   "id": "c3dd232d",
   "metadata": {
    "scrolled": false
   },
   "outputs": [
    {
     "name": "stdout",
     "output_type": "stream",
     "text": [
      "Optimization terminated successfully    (Exit mode 0)\n",
      "            Current function value: -2.151657414467269\n",
      "            Iterations: 4\n",
      "            Function evaluations: 17\n",
      "            Gradient evaluations: 4\n",
      "Length: 1.2909944727867015\n",
      "Width: 1.290994455352175\n",
      "Height: 1.2909944180130968\n",
      "Volume: 2.151657414467269\n",
      "Surface Area: 9.999999999713689\n"
     ]
    }
   ],
   "source": [
    "##Chad E. McPherson\n",
    "##CS 6647\n",
    "##Dr. Huan, Xiaoli\n",
    "\n",
    "import numpy as np\n",
    "from scipy.optimize import minimize\n",
    "\n",
    "    \n",
    "def calculationSurface(x):\n",
    "    l = x[0]\n",
    "    w = x[1]\n",
    "    h = x[2]\n",
    "    return 2*l*w + 2*l*h + 2*h*w\n",
    "    \n",
    "\n",
    "##l = length, w = width, h = height, v = volume\n",
    "def calculationVolume(x):\n",
    "    l = x[0]\n",
    "    w = x[1]\n",
    "    h = x[2]\n",
    "    return l*w*h\n",
    "    \n",
    "\n",
    "def objective(x):\n",
    "    return -calcVolume(x)\n",
    "\n",
    "def constraint(x):\n",
    "    return 10 - calculationSurface(x)\n",
    "\n",
    "cons = ({'type': 'ineq', 'fun':constraint})\n",
    "\n",
    "##array with length, width, & height initialized guesses\n",
    "x0 = np.array([1, 1, 1])\n",
    "\n",
    "##solving for the maximized surface area < 10\n",
    "solver = minimize(objective, x0,method='SLSQP',constraints=cons,options={'disp':True})\n",
    "\n",
    "xOpt = solver.x\n",
    "volumeOpt = -solver.fun\n",
    "\n",
    "surfaceAreaOpt = calcSurface(xOpt)\n",
    "\n",
    "print('Length: ' + str(xOpt[0]))\n",
    "print('Width: ' + str(xOpt[1]))\n",
    "print('Height: ' + str(xOpt[2]))\n",
    "print('Volume: ' + str(volumeOpt))\n",
    "print('Surface Area: ' + str(surfaceAreaOpt))\n",
    "\n",
    "\n",
    "    "
   ]
  },
  {
   "cell_type": "code",
   "execution_count": null,
   "id": "27988850",
   "metadata": {},
   "outputs": [],
   "source": []
  },
  {
   "cell_type": "code",
   "execution_count": null,
   "id": "e3538925",
   "metadata": {},
   "outputs": [],
   "source": []
  }
 ],
 "metadata": {
  "kernelspec": {
   "display_name": "Python 3 (ipykernel)",
   "language": "python",
   "name": "python3"
  },
  "language_info": {
   "codemirror_mode": {
    "name": "ipython",
    "version": 3
   },
   "file_extension": ".py",
   "mimetype": "text/x-python",
   "name": "python",
   "nbconvert_exporter": "python",
   "pygments_lexer": "ipython3",
   "version": "3.9.12"
  }
 },
 "nbformat": 4,
 "nbformat_minor": 5
}

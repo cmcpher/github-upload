{
 "cells": [
  {
   "cell_type": "code",
   "execution_count": 1,
   "id": "af68f206",
   "metadata": {},
   "outputs": [],
   "source": [
    "\"\"\"\n",
    "CS 6647\n",
    "Chad E. McPherson\n",
    "Dr. Huan\n",
    "\"\"\"\n",
    "#setup for future code blocks. Always run first.\n",
    "import numpy as np\n",
    "\n",
    "def get_future_state_probability_steps(P, S, num_days):\n",
    "    steps = []\n",
    "\n",
    "    steps.append(S)\n",
    "    for i in range(num_days):\n",
    "        steps.append(np.matmul(P, steps[i]))\n",
    "\n",
    "    return steps\n",
    "\n",
    "def print_steps(steps):\n",
    "    for i in range(1, len(steps)):\n",
    "        print('Probability on day ', i, ' is:', np.array_str(steps[i], precision=4))"
   ]
  },
  {
   "cell_type": "code",
   "execution_count": 2,
   "id": "9ae637a5",
   "metadata": {},
   "outputs": [
    {
     "name": "stdout",
     "output_type": "stream",
     "text": [
      "Probability on day  1  is: [0.2 0.6 0.2]\n",
      "Probability on day  2  is: [0.14 0.62 0.24]\n",
      "Probability on day  3  is: [0.138 0.624 0.238]\n",
      "Probability on day  4  is: [0.1376 0.6238 0.2386]\n",
      "Probability on day  5  is: [0.1376 0.6239 0.2385]\n",
      "Probability on day  6  is: [0.1376 0.6239 0.2385]\n",
      "Probability on day  7  is: [0.1376 0.6239 0.2385]\n",
      "Probability on day  8  is: [0.1376 0.6239 0.2385]\n",
      "Probability on day  9  is: [0.1376 0.6239 0.2385]\n",
      "Probability on day  10  is: [0.1376 0.6239 0.2385]\n",
      "Probability on day  11  is: [0.1376 0.6239 0.2385]\n",
      "Probability on day  12  is: [0.1376 0.6239 0.2385]\n",
      "Probability on day  13  is: [0.1376 0.6239 0.2385]\n",
      "Probability on day  14  is: [0.1376 0.6239 0.2385]\n",
      "Probability on day  15  is: [0.1376 0.6239 0.2385]\n",
      "Probability of exercise on day 15 is  0.6239\n"
     ]
    }
   ],
   "source": [
    "# P is probability matrix from state diagram\n",
    "P = [ [0.2, 0.1, 0.2], [0.6, 0.6, 0.7], [0.2, 0.3, 0.1] ]\n",
    "\n",
    "# S is initial state (Resting)\n",
    "S = [1, 0, 0]\n",
    "\n",
    "# we want to know future state for day 15\n",
    "steps = get_future_state_probability_steps(P, S, 15)\n",
    "print_steps(steps)\n",
    "print('Probability of exercise on day 15 is ', f'{steps[14][1]:.4f}')"
   ]
  },
  {
   "cell_type": "code",
   "execution_count": 3,
   "id": "48e9d569",
   "metadata": {},
   "outputs": [
    {
     "name": "stdout",
     "output_type": "stream",
     "text": [
      "Probability of exercise on day 10,000 is  0.6239\n"
     ]
    }
   ],
   "source": [
    "#3. the observation is the probability is the same on day 10,000 as it is on day 15.\n",
    "# P is probability matrix from state diagram\n",
    "P = [ [0.2, 0.1, 0.2], [0.6, 0.6, 0.7], [0.2, 0.3, 0.1] ]\n",
    "\n",
    "# S is initial state (Resting)\n",
    "S = [1, 0, 0]\n",
    "\n",
    "# we want to know future state for day 10000\n",
    "steps = get_future_state_probability_steps(P, S, 10000)\n",
    "\n",
    "# If you really want to see 10,000 steps, uncomment this line\n",
    "# print_steps(steps)\n",
    "print('Probability of exercise on day 10,000 is ', f'{steps[9999][1]:.4f}')"
   ]
  },
  {
   "cell_type": "markdown",
   "id": "92902e31",
   "metadata": {},
   "source": [
    "3. Ultimately, the observation is that on the fifth step, the system has become a steady state, so regardless, the exercise option will be at 0.6239 for infinity as its probability.  These two are identical because once the system got to its steady state, the numbers were guaranteed to be identical."
   ]
  }
 ],
 "metadata": {
  "kernelspec": {
   "display_name": "Python 3 (ipykernel)",
   "language": "python",
   "name": "python3"
  },
  "language_info": {
   "codemirror_mode": {
    "name": "ipython",
    "version": 3
   },
   "file_extension": ".py",
   "mimetype": "text/x-python",
   "name": "python",
   "nbconvert_exporter": "python",
   "pygments_lexer": "ipython3",
   "version": "3.9.12"
  }
 },
 "nbformat": 4,
 "nbformat_minor": 5
}
